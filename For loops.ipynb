{
 "cells": [
  {
   "cell_type": "code",
   "execution_count": 1,
   "id": "9fdc94b9",
   "metadata": {
    "scrolled": true
   },
   "outputs": [
    {
     "name": "stdout",
     "output_type": "stream",
     "text": [
      "1\n",
      "2\n",
      "3\n",
      "4\n",
      "5\n",
      "6\n",
      "7\n",
      "8\n",
      "9\n",
      "10\n",
      "11\n",
      "12\n",
      "[1, 2, 3, 4, 5, 6, 7, 8, 9, 10, 11, 12]\n"
     ]
    }
   ],
   "source": [
    "list_range = []\n",
    "for i in range(1,13):\n",
    "    print(i)\n",
    "    list_range.append(i)\n",
    "print(list_range)"
   ]
  },
  {
   "cell_type": "code",
   "execution_count": 2,
   "id": "78382092",
   "metadata": {},
   "outputs": [
    {
     "name": "stdout",
     "output_type": "stream",
     "text": [
      "20\n"
     ]
    }
   ],
   "source": [
    "text = 'bu bir for orneyidir'\n",
    "uzunluq = len(text)\n",
    "print(uzunluq)"
   ]
  },
  {
   "cell_type": "code",
   "execution_count": 3,
   "id": "eab14eb1",
   "metadata": {},
   "outputs": [
    {
     "name": "stdout",
     "output_type": "stream",
     "text": [
      "text[0] = b\n",
      "text[1] = u\n",
      "text[2] =  \n",
      "text[3] = b\n",
      "text[4] = i\n",
      "text[5] = r\n",
      "text[6] =  \n",
      "text[7] = f\n",
      "text[8] = o\n",
      "text[9] = r\n",
      "text[10] =  \n",
      "text[11] = o\n",
      "text[12] = r\n",
      "text[13] = n\n",
      "text[14] = e\n",
      "text[15] = y\n",
      "text[16] = i\n",
      "text[17] = d\n",
      "text[18] = i\n",
      "text[19] = r\n"
     ]
    }
   ],
   "source": [
    "for indx in range(uzunluq):\n",
    "    print(f'text[{indx}] = {text[indx]}')"
   ]
  },
  {
   "cell_type": "code",
   "execution_count": 4,
   "id": "ff8aba90",
   "metadata": {},
   "outputs": [
    {
     "name": "stdout",
     "output_type": "stream",
     "text": [
      "1\n",
      "15\n",
      "25\n"
     ]
    }
   ],
   "source": [
    "ededler = [1,15,25]\n",
    "for i in range(len(ededler)):\n",
    "    print(ededler[i])"
   ]
  },
  {
   "cell_type": "code",
   "execution_count": 5,
   "id": "6c719370",
   "metadata": {},
   "outputs": [
    {
     "name": "stdout",
     "output_type": "stream",
     "text": [
      "b\n",
      "u\n",
      "b\n",
      "i\n",
      "r\n",
      "f\n",
      "o\n",
      "r\n",
      "o\n",
      "r\n",
      "n\n",
      "e\n",
      "text de y herfine rast gelindi!!\n",
      "i\n",
      "d\n",
      "i\n",
      "r\n"
     ]
    }
   ],
   "source": [
    "for i in text:\n",
    "    if i.isspace() == True:\n",
    "        continue\n",
    "    elif i == 'y':\n",
    "        print('text de y herfine rast gelindi!!')\n",
    "    else:\n",
    "        print(i)"
   ]
  },
  {
   "cell_type": "code",
   "execution_count": null,
   "id": "71b5c811",
   "metadata": {},
   "outputs": [],
   "source": [
    "\"\"\"def sum_positive_numbers(numbers):\n",
    "    # Fonksiyonunuzu burada yazın\n",
    "    pass\n",
    "\n",
    "# Örnek kullanım:\n",
    "numbers = [1, -2, 3, -4, 5]\n",
    "print(sum_positive_numbers(numbers))  # Çıktı: 9\"\"\""
   ]
  },
  {
   "cell_type": "code",
   "execution_count": 6,
   "id": "570e9e8e",
   "metadata": {},
   "outputs": [
    {
     "name": "stdout",
     "output_type": "stream",
     "text": [
      "9\n"
     ]
    }
   ],
   "source": [
    "numbers = [1, -2, 3, -4, 5]\n",
    "sum_positive = 0\n",
    "for i in numbers:\n",
    "    if i < 0:\n",
    "        pass\n",
    "    else:\n",
    "        sum_positive += i\n",
    "print(sum_positive)"
   ]
  },
  {
   "cell_type": "code",
   "execution_count": null,
   "id": "deed1aaf",
   "metadata": {},
   "outputs": [],
   "source": [
    "\"\"\"Soru 2: FizzBuzz Problemi\n",
    "1'den 100'e kadar olan sayılar için:\n",
    "\n",
    "Sayı 3'e bölünebiliyorsa \"Fizz\"\n",
    "Sayı 5'e bölünebiliyorsa \"Buzz\"\n",
    "Hem 3'e hem de 5'e bölünebiliyorsa \"FizzBuzz\"\n",
    "Hiçbirine bölünmüyorsa sayının kendisini\n",
    "yazdıran bir program yazın.\"\"\""
   ]
  },
  {
   "cell_type": "code",
   "execution_count": 7,
   "id": "28f5ced4",
   "metadata": {},
   "outputs": [
    {
     "name": "stdout",
     "output_type": "stream",
     "text": [
      "Diger reqem 1\n",
      "Diger reqem 2\n",
      "Fizz 3\n",
      "Diger reqem 4\n",
      "Buzz 5\n",
      "Fizz 6\n",
      "Diger reqem 7\n",
      "Diger reqem 8\n",
      "Fizz 9\n",
      "Buzz 10\n",
      "Diger reqem 11\n",
      "Fizz 12\n",
      "Diger reqem 13\n",
      "Diger reqem 14\n",
      "FizzBuzz 15\n",
      "Diger reqem 16\n",
      "Diger reqem 17\n",
      "Fizz 18\n",
      "Diger reqem 19\n",
      "Buzz 20\n",
      "Fizz 21\n",
      "Diger reqem 22\n",
      "Diger reqem 23\n",
      "Fizz 24\n",
      "Buzz 25\n",
      "Diger reqem 26\n",
      "Fizz 27\n",
      "Diger reqem 28\n",
      "Diger reqem 29\n",
      "FizzBuzz 30\n",
      "Diger reqem 31\n",
      "Diger reqem 32\n",
      "Fizz 33\n",
      "Diger reqem 34\n",
      "Buzz 35\n",
      "Fizz 36\n",
      "Diger reqem 37\n",
      "Diger reqem 38\n",
      "Fizz 39\n",
      "Buzz 40\n",
      "Diger reqem 41\n",
      "Fizz 42\n",
      "Diger reqem 43\n",
      "Diger reqem 44\n",
      "FizzBuzz 45\n",
      "Diger reqem 46\n",
      "Diger reqem 47\n",
      "Fizz 48\n",
      "Diger reqem 49\n",
      "Buzz 50\n",
      "Fizz 51\n",
      "Diger reqem 52\n",
      "Diger reqem 53\n",
      "Fizz 54\n",
      "Buzz 55\n",
      "Diger reqem 56\n",
      "Fizz 57\n",
      "Diger reqem 58\n",
      "Diger reqem 59\n",
      "FizzBuzz 60\n",
      "Diger reqem 61\n",
      "Diger reqem 62\n",
      "Fizz 63\n",
      "Diger reqem 64\n",
      "Buzz 65\n",
      "Fizz 66\n",
      "Diger reqem 67\n",
      "Diger reqem 68\n",
      "Fizz 69\n",
      "Buzz 70\n",
      "Diger reqem 71\n",
      "Fizz 72\n",
      "Diger reqem 73\n",
      "Diger reqem 74\n",
      "FizzBuzz 75\n",
      "Diger reqem 76\n",
      "Diger reqem 77\n",
      "Fizz 78\n",
      "Diger reqem 79\n",
      "Buzz 80\n",
      "Fizz 81\n",
      "Diger reqem 82\n",
      "Diger reqem 83\n",
      "Fizz 84\n",
      "Buzz 85\n",
      "Diger reqem 86\n",
      "Fizz 87\n",
      "Diger reqem 88\n",
      "Diger reqem 89\n",
      "FizzBuzz 90\n",
      "Diger reqem 91\n",
      "Diger reqem 92\n",
      "Fizz 93\n",
      "Diger reqem 94\n",
      "Buzz 95\n",
      "Fizz 96\n",
      "Diger reqem 97\n",
      "Diger reqem 98\n",
      "Fizz 99\n",
      "Buzz 100\n"
     ]
    }
   ],
   "source": [
    "list_num = []\n",
    "num = range(1,101)\n",
    "for i in num:\n",
    "    list_num.append(i)\n",
    "\n",
    "\n",
    "for i in list_num:\n",
    "    if i%3==0:\n",
    "        if i%5==0:\n",
    "            print(f'FizzBuzz {i}')\n",
    "        else:\n",
    "            print(f'Fizz {i}')\n",
    "    elif i%5 ==0:\n",
    "        if i%3==0:\n",
    "            print(f'FizzBuzz {i}')\n",
    "        else:\n",
    "            print(f'Buzz {i}')\n",
    "    else:\n",
    "        print(f'Diger reqem {i}')\n",
    "    "
   ]
  },
  {
   "cell_type": "code",
   "execution_count": null,
   "id": "24eff329",
   "metadata": {},
   "outputs": [],
   "source": [
    "\"\"\"def is_palindrome(s):\n",
    "    # Fonksiyonunuzu burada yazın\n",
    "    pass\n",
    "\n",
    "# Örnek kullanım:\n",
    "print(is_palindrome(\"kayak\"))  # Çıktı: True\n",
    "print(is_palindrome(\"hello\"))  # Çıktı: False\"\"\""
   ]
  },
  {
   "cell_type": "code",
   "execution_count": 8,
   "id": "cec787b1",
   "metadata": {},
   "outputs": [
    {
     "name": "stdout",
     "output_type": "stream",
     "text": [
      "Yeni soz daxil et: kayak\n",
      " Palindrome soz : kayak\n"
     ]
    }
   ],
   "source": [
    "soz = input('Yeni soz daxil et: ')\n",
    "if soz == soz[::-1]:\n",
    "    print(f' Palindrome soz : {soz}')\n",
    "else:\n",
    "    print(\"Netice sehvdir\")"
   ]
  },
  {
   "cell_type": "code",
   "execution_count": null,
   "id": "f72c565f",
   "metadata": {},
   "outputs": [],
   "source": [
    "\"\"\"def find_max(numbers):\n",
    "    # Fonksiyonunuzu burada yazın\n",
    "    pass\n",
    "\n",
    "# Örnek kullanım:\n",
    "numbers = [3, 1, 4, 1, 5, 9, 2, 6, 5]\n",
    "print(find_max(numbers)) \"\"\""
   ]
  },
  {
   "cell_type": "code",
   "execution_count": 9,
   "id": "b911d58c",
   "metadata": {},
   "outputs": [
    {
     "name": "stdout",
     "output_type": "stream",
     "text": [
      "5\n"
     ]
    }
   ],
   "source": [
    "numbers = [3, 1, 4, 1, 5, 9, 2, 6, 5]\n",
    "temp = 0\n",
    "for i in numbers:\n",
    "    temp=i\n",
    "    if temp >i:\n",
    "        print(f'En boyuk reqem {temp}')\n",
    "\n",
    "print(temp)"
   ]
  },
  {
   "cell_type": "code",
   "execution_count": null,
   "id": "c41b8eff",
   "metadata": {},
   "outputs": [],
   "source": []
  }
 ],
 "metadata": {
  "kernelspec": {
   "display_name": "Python 3 (ipykernel)",
   "language": "python",
   "name": "python3"
  },
  "language_info": {
   "codemirror_mode": {
    "name": "ipython",
    "version": 3
   },
   "file_extension": ".py",
   "mimetype": "text/x-python",
   "name": "python",
   "nbconvert_exporter": "python",
   "pygments_lexer": "ipython3",
   "version": "3.10.9"
  }
 },
 "nbformat": 4,
 "nbformat_minor": 5
}
